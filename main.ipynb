{
 "cells": [
  {
   "cell_type": "markdown",
   "metadata": {},
   "source": [
    "# Minimal Blockchain in Python"
   ]
  },
  {
   "cell_type": "markdown",
   "metadata": {},
   "source": [
    "In this notebook, I will demonstrate how you can build a minimal private blockchain with essential operations such as:\n",
    "\n",
    "a) creating a blockchain, b) verifying a chain, c) forking, and d) comparing chains."
   ]
  },
  {
   "cell_type": "code",
   "execution_count": 30,
   "metadata": {
    "pycharm": {
     "is_executing": false
    }
   },
   "outputs": [],
   "source": [
    "import copy  # fork a chain\n",
    "import datetime  # get real time for timestamps\n",
    "import hashlib  # hash\n",
    "from enum import IntEnum\n",
    "from datetime import timedelta  # used for obtaining time deltas between timestamps of blocks"
   ]
  },
  {
   "cell_type": "markdown",
   "metadata": {},
   "source": [
    "## 1. Define classes"
   ]
  },
  {
   "cell_type": "code",
   "execution_count": 31,
   "metadata": {
    "pycharm": {
     "is_executing": false
    }
   },
   "outputs": [],
   "source": [
    "# forking enums are used by the\n",
    "# fork method of the MinimalChain\n",
    "# class so the head input parm\n",
    "# would be a consistent integer\n",
    "class ForkingEnums(IntEnum):\n",
    "    ALL = -1\n",
    "    LATEST = -2\n",
    "    WHOLE = -3"
   ]
  },
  {
   "cell_type": "code",
   "execution_count": 32,
   "metadata": {
    "pycharm": {
     "is_executing": false
    }
   },
   "outputs": [],
   "source": [
    "class MinimalBlock:\n",
    "    def __init__(self, index, timestamp, data, previous_hash):\n",
    "        self.index = index\n",
    "        self.timestamp = timestamp\n",
    "        self.data = data\n",
    "        self.previous_hash = previous_hash\n",
    "        self.hash = self.hashing()\n",
    "\n",
    "    def __repr__(self):\n",
    "        value = f'index: {self.index}, timestamp: {self.timestamp}, data: {self.data}, prev_hash: {self.previous_hash}, this_hash: {self.hash}'\n",
    "        return value\n",
    "\n",
    "    def __eq__(self, other):\n",
    "        if isinstance(other, self.__class__):\n",
    "            return self.__dict__ == other.__dict__\n",
    "        else:\n",
    "            return False\n",
    "\n",
    "    def hashing(self):\n",
    "        key = hashlib.sha256()\n",
    "        key.update(str(self.index).encode('utf-8'))\n",
    "        key.update(str(self.timestamp).encode('utf-8'))\n",
    "        key.update(str(self.data).encode('utf-8'))\n",
    "        key.update(str(self.previous_hash).encode('utf-8'))\n",
    "        return key.hexdigest()\n",
    "\n",
    "    def verify(self):  # check data types of all info in a block\n",
    "        instances = [self.index, self.timestamp, self.previous_hash, self.hash]\n",
    "        types = [int, datetime.datetime, str, str]\n",
    "        if sum(map(lambda inst_, type_: isinstance(inst_, type_), instances, types)) == len(instances):\n",
    "            return True\n",
    "        else:\n",
    "            return False"
   ]
  },
  {
   "cell_type": "code",
   "execution_count": 33,
   "metadata": {
    "pycharm": {
     "is_executing": false
    }
   },
   "outputs": [],
   "source": [
    "class MinimalChain:\n",
    "    def __init__(self):  # initialize when creating a chain\n",
    "        self.blocks = [MinimalChain.get_genesis_block()]\n",
    "\n",
    "    def __eq__(self, other):\n",
    "        if isinstance(other, self.__class__):\n",
    "            return self.__dict__ == other.__dict__\n",
    "        else:\n",
    "            return False\n",
    "\n",
    "    @staticmethod\n",
    "    def get_genesis_block():\n",
    "        return MinimalBlock(0,\n",
    "                            datetime.datetime.utcnow(),\n",
    "                            'Genesis',\n",
    "                            'arbitrary')\n",
    "\n",
    "    def add_block(self, data):\n",
    "        minimal_block = MinimalBlock(len(self.blocks),\n",
    "                                     datetime.datetime.utcnow(),\n",
    "                                     data,\n",
    "                                     self.blocks[len(self.blocks) - 1].hash)\n",
    "        self.blocks.append(minimal_block)\n",
    "        print(minimal_block)\n",
    "\n",
    "    def get_chain_size(self):  # exclude genesis block\n",
    "        return len(self.blocks) - 1\n",
    "\n",
    "    def verify(self, verbose=True):\n",
    "        flag = True\n",
    "        for ndx in range(1, len(self.blocks)):\n",
    "            if not self.blocks[ndx].verify():  # assume Genesis block integrity\n",
    "                flag = False\n",
    "                if verbose:\n",
    "                    print(f'Wrong data type(s) at block {ndx}.')\n",
    "            if self.blocks[ndx].index != ndx:\n",
    "                flag = False\n",
    "                if verbose:\n",
    "                    print(f'Wrong block index at block {ndx}.')\n",
    "            if self.blocks[ndx - 1].hash != self.blocks[ndx].previous_hash:\n",
    "                flag = False\n",
    "                if verbose:\n",
    "                    print(f'Wrong previous hash at block {ndx}.')\n",
    "            if self.blocks[ndx].hash != self.blocks[ndx].hashing():\n",
    "                flag = False\n",
    "                if verbose:\n",
    "                    print(f'Wrong hash at block {ndx}.')\n",
    "            ts_curr = self.blocks[ndx].timestamp\n",
    "            ts_prev = self.blocks[ndx - 1].timestamp\n",
    "            ts_diff = (ts_curr - ts_prev) / timedelta(microseconds=1)\n",
    "            if ts_diff < 0:\n",
    "                flag = False\n",
    "                if verbose:\n",
    "                    print(f'Backdating at block {ndx}.')\n",
    "        return flag\n",
    "\n",
    "    def fork(self, head=ForkingEnums.LATEST.value):\n",
    "        if head in [ForkingEnums.LATEST.value, ForkingEnums.WHOLE.value, ForkingEnums.ALL.value]:\n",
    "            return copy.deepcopy(self)  # deepcopy since they are mutable\n",
    "        else:\n",
    "            cpy = copy.deepcopy(self)\n",
    "            cpy.blocks = cpy.blocks[0:head + 1]\n",
    "            return cpy\n",
    "\n",
    "    def get_root(self, chain_2):\n",
    "        min_chain_size = min(self.get_chain_size(), chain_2.get_chain_size())\n",
    "        for i in range(1, min_chain_size + 1):\n",
    "            if self.blocks[i] != chain_2.blocks[i]:\n",
    "                return self.fork(i - 1)\n",
    "        return self.fork(min_chain_size)"
   ]
  },
  {
   "cell_type": "markdown",
   "metadata": {},
   "source": [
    "## 2. Testing"
   ]
  },
  {
   "cell_type": "code",
   "execution_count": 34,
   "metadata": {
    "pycharm": {
     "is_executing": false
    }
   },
   "outputs": [
    {
     "name": "stdout",
     "text": [
      "\nTesting...\n\n"
     ],
     "output_type": "stream"
    }
   ],
   "source": [
    "# Testing\n",
    "\n",
    "print('')\n",
    "print('Testing...')\n",
    "print('')"
   ]
  },
  {
   "cell_type": "code",
   "execution_count": 35,
   "metadata": {
    "pycharm": {
     "is_executing": false
    }
   },
   "outputs": [
    {
     "name": "stdout",
     "text": [
      "index: 1, timestamp: 2019-09-27 19:05:41.473334, data: Block 1 of the chain., prev_hash: f1de49a0ea7474d46c423ae3674bea23abc98a94cdb18b84efe8958acf929593, this_hash: aaeca83893eb6003fdb6e347381b669f217d85f4f6fb240cd9670c19040eeb76\nindex: 2, timestamp: 2019-09-27 19:05:41.474334, data: Block 2 of the chain., prev_hash: aaeca83893eb6003fdb6e347381b669f217d85f4f6fb240cd9670c19040eeb76, this_hash: 3fdfd797da2bd34b3386168dd1799dec0b6652887b626d4ede82d804305409b8\nindex: 3, timestamp: 2019-09-27 19:05:41.474334, data: Block 3 of the chain., prev_hash: 3fdfd797da2bd34b3386168dd1799dec0b6652887b626d4ede82d804305409b8, this_hash: 4f28908f7e331b6e9683adce4031c23acc5bc7928d020973b072fd5b47725eb6\nindex: 4, timestamp: 2019-09-27 19:05:41.474334, data: Block 4 of the chain., prev_hash: 4f28908f7e331b6e9683adce4031c23acc5bc7928d020973b072fd5b47725eb6, this_hash: 961fb2a0868bd788f0202f6457ab751a42982938ba6e8e8f6d1ee1b7e5c97db3\nindex: 5, timestamp: 2019-09-27 19:05:41.474334, data: Block 5 of the chain., prev_hash: 961fb2a0868bd788f0202f6457ab751a42982938ba6e8e8f6d1ee1b7e5c97db3, this_hash: 9cbe9392aaae5df7329dd2d297e17997fa27c0731c066f6fe08d9271ef217cd4\nindex: 6, timestamp: 2019-09-27 19:05:41.474334, data: Block 6 of the chain., prev_hash: 9cbe9392aaae5df7329dd2d297e17997fa27c0731c066f6fe08d9271ef217cd4, this_hash: 0a0ccba9d6c8178a6267dfad5b9d022e5048aae9d984417196441a004bdc72ca\nindex: 7, timestamp: 2019-09-27 19:05:41.474334, data: Block 7 of the chain., prev_hash: 0a0ccba9d6c8178a6267dfad5b9d022e5048aae9d984417196441a004bdc72ca, this_hash: ceca264c2742ccb4ddfcf58d221a98c600b65e12f113ea1555b439ee563d7eee\nindex: 8, timestamp: 2019-09-27 19:05:41.475332, data: Block 8 of the chain., prev_hash: ceca264c2742ccb4ddfcf58d221a98c600b65e12f113ea1555b439ee563d7eee, this_hash: 7e5fd34f9d594011f99031b0ddf44368c063d03893fa06d59e12f651b51385ef\nindex: 9, timestamp: 2019-09-27 19:05:41.475332, data: Block 9 of the chain., prev_hash: 7e5fd34f9d594011f99031b0ddf44368c063d03893fa06d59e12f651b51385ef, this_hash: 50b3d614b3f5fbf4d62b1d2d9e3d5c3304e0d711c3a6ef5e075e23635dbe833c\nindex: 10, timestamp: 2019-09-27 19:05:41.475332, data: Block 10 of the chain., prev_hash: 50b3d614b3f5fbf4d62b1d2d9e3d5c3304e0d711c3a6ef5e075e23635dbe833c, this_hash: 620c0add3a9fd4353e1cec30de88d8f29655f36177b9575f933cfcc06ce15906\n"
     ],
     "output_type": "stream"
    }
   ],
   "source": [
    "nbr_of_blocks = 10\n",
    "\n",
    "c = MinimalChain()  # Start a chain\n",
    "for i in range(1, nbr_of_blocks + 1):\n",
    "    c.add_block(f'Block {i} of the chain.')"
   ]
  },
  {
   "cell_type": "code",
   "execution_count": 36,
   "metadata": {
    "pycharm": {
     "is_executing": false
    }
   },
   "outputs": [
    {
     "name": "stdout",
     "text": [
      "c.blocks[3].timestamp: 2019-09-27 19:05:41.474334\nc.blocks[7].data: Block 7 of the chain.\nc.blocks[9].hash: 50b3d614b3f5fbf4d62b1d2d9e3d5c3304e0d711c3a6ef5e075e23635dbe833c\n"
     ],
     "output_type": "stream"
    }
   ],
   "source": [
    "print(f'c.blocks[3].timestamp: {c.blocks[3].timestamp}')\n",
    "print(f'c.blocks[7].data: {c.blocks[7].data}')\n",
    "print(f'c.blocks[9].hash: {c.blocks[9].hash}')"
   ]
  },
  {
   "cell_type": "code",
   "execution_count": 37,
   "metadata": {
    "pycharm": {
     "is_executing": false
    }
   },
   "outputs": [
    {
     "name": "stdout",
     "text": [
      "c.get_chain_size(): 10\nVerifying 10 blocks...\nc.verify(): True\n"
     ],
     "output_type": "stream"
    }
   ],
   "source": [
    "print(f'c.get_chain_size(): {c.get_chain_size()}')\n",
    "print(f'Verifying {c.get_chain_size()} blocks...')\n",
    "print(f'c.verify(): {c.verify()}')"
   ]
  },
  {
   "cell_type": "code",
   "execution_count": 38,
   "metadata": {
    "pycharm": {
     "is_executing": false
    }
   },
   "outputs": [
    {
     "name": "stdout",
     "text": [
      "c == c_forked: True\n"
     ],
     "output_type": "stream"
    }
   ],
   "source": [
    "c_forked = c.fork(ForkingEnums.LATEST.value)\n",
    "print(f'c == c_forked: {c == c_forked}')"
   ]
  },
  {
   "cell_type": "code",
   "execution_count": 39,
   "metadata": {
    "pycharm": {
     "is_executing": false
    }
   },
   "outputs": [
    {
     "name": "stdout",
     "text": [
      "index: 11, timestamp: 2019-09-27 19:05:41.521336, data: New block for forked chain!, prev_hash: 620c0add3a9fd4353e1cec30de88d8f29655f36177b9575f933cfcc06ce15906, this_hash: b849da382a501aa77280fbb2ccd80d75183d9a28f3bf66e189420328854790a1\n10 11\n"
     ],
     "output_type": "stream"
    }
   ],
   "source": [
    "c_forked.add_block('New block for forked chain!')\n",
    "print(c.get_chain_size(), c_forked.get_chain_size())"
   ]
  },
  {
   "cell_type": "markdown",
   "metadata": {},
   "source": [
    "## 3. Conflict Testing"
   ]
  },
  {
   "cell_type": "code",
   "execution_count": 40,
   "metadata": {
    "pycharm": {
     "is_executing": false
    }
   },
   "outputs": [
    {
     "name": "stdout",
     "text": [
      "\nConflict Testing...\n\n"
     ],
     "output_type": "stream"
    }
   ],
   "source": [
    "# Conflict testing\n",
    "\n",
    "print('')\n",
    "print('Conflict Testing...')\n",
    "print('')"
   ]
  },
  {
   "cell_type": "code",
   "execution_count": 41,
   "metadata": {
    "pycharm": {
     "is_executing": false
    }
   },
   "outputs": [
    {
     "name": "stdout",
     "text": [
      "Wrong block index at block 9.\nWrong hash at block 9.\n"
     ],
     "output_type": "stream"
    },
    {
     "data": {
      "text/plain": "False"
     },
     "metadata": {},
     "output_type": "execute_result",
     "execution_count": 41
    }
   ],
   "source": [
    "c_forked = c.fork(ForkingEnums.LATEST.value)\n",
    "c_forked.blocks[9].index = -9\n",
    "c_forked.verify()"
   ]
  },
  {
   "cell_type": "code",
   "execution_count": 42,
   "metadata": {
    "pycharm": {
     "is_executing": false
    }
   },
   "outputs": [
    {
     "name": "stdout",
     "text": [
      "Wrong hash at block 6.\nBackdating at block 6.\n"
     ],
     "output_type": "stream"
    },
    {
     "data": {
      "text/plain": "False"
     },
     "metadata": {},
     "output_type": "execute_result",
     "execution_count": 42
    }
   ],
   "source": [
    "c_forked = c.fork(ForkingEnums.LATEST.value)\n",
    "c_forked.blocks[6].timestamp = datetime.datetime(2000, 1, 1, 0, 0, 0, 0)\n",
    "c_forked.verify()"
   ]
  },
  {
   "cell_type": "code",
   "execution_count": 43,
   "metadata": {
    "pycharm": {
     "is_executing": false
    }
   },
   "outputs": [
    {
     "name": "stdout",
     "text": [
      "Wrong previous hash at block 5.\nWrong hash at block 5.\n"
     ],
     "output_type": "stream"
    },
    {
     "data": {
      "text/plain": "False"
     },
     "metadata": {},
     "output_type": "execute_result",
     "execution_count": 43
    }
   ],
   "source": [
    "c_forked = c.fork(ForkingEnums.LATEST.value)\n",
    "c_forked.blocks[5].previous_hash = c_forked.blocks[1].hash\n",
    "c_forked.verify()"
   ]
  }
 ],
 "metadata": {
  "kernelspec": {
   "display_name": "Python 3",
   "language": "python",
   "name": "python3"
  },
  "language_info": {
   "codemirror_mode": {
    "name": "ipython",
    "version": 3
   },
   "file_extension": ".py",
   "mimetype": "text/x-python",
   "name": "python",
   "nbconvert_exporter": "python",
   "pygments_lexer": "ipython3",
   "version": "3.7.4"
  },
  "pycharm": {
   "stem_cell": {
    "cell_type": "raw",
    "source": [],
    "metadata": {
     "collapsed": false
    }
   }
  }
 },
 "nbformat": 4,
 "nbformat_minor": 1
}
